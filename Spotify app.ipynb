{
 "cells": [
  {
   "cell_type": "code",
   "execution_count": 1,
   "id": "8ec364ce-3e45-45f5-bef9-d5844676177f",
   "metadata": {},
   "outputs": [],
   "source": [
    "import spotipy\n",
    "from spotipy.oauth2 import SpotifyClientCredentials\n",
    "\n",
    "# Вставь свои Client ID и Client Secret\n",
    "client_id = '5c435b7327e94d36973557c5640239d8'  # замените на свой Client ID\n",
    "client_secret = 'e15d818064d84a3981f06fa0e2a4c292'  # замените на свой Client Secret\n",
    "\n",
    "# Аутентификация через Client Credentials\n",
    "auth_manager = SpotifyClientCredentials(client_id=client_id, client_secret=client_secret)\n",
    "sp = spotipy.Spotify(auth_manager=auth_manager)\n"
   ]
  },
  {
   "cell_type": "code",
   "execution_count": 3,
   "id": "66ba309a-ca0c-4616-a111-754538e4a39e",
   "metadata": {},
   "outputs": [
    {
     "name": "stdout",
     "output_type": "stream",
     "text": [
      "{'album': {'album_type': 'album', 'artists': [{'external_urls': {'spotify': 'https://open.spotify.com/artist/6oO3QiWdVj5FZQwbdRtsRh'}, 'href': 'https://api.spotify.com/v1/artists/6oO3QiWdVj5FZQwbdRtsRh', 'id': '6oO3QiWdVj5FZQwbdRtsRh', 'name': 'Zemfira', 'type': 'artist', 'uri': 'spotify:artist:6oO3QiWdVj5FZQwbdRtsRh'}], 'available_markets': ['AR', 'AU', 'AT', 'BE', 'BO', 'BR', 'BG', 'CA', 'CL', 'CO', 'CR', 'CY', 'CZ', 'DK', 'DO', 'DE', 'EC', 'EE', 'SV', 'FI', 'FR', 'GR', 'GT', 'HN', 'HK', 'HU', 'IS', 'IE', 'IT', 'LV', 'LT', 'LU', 'MY', 'MT', 'MX', 'NL', 'NZ', 'NI', 'NO', 'PA', 'PY', 'PE', 'PH', 'PL', 'PT', 'SG', 'SK', 'ES', 'SE', 'CH', 'TW', 'TR', 'UY', 'US', 'GB', 'AD', 'LI', 'MC', 'ID', 'JP', 'TH', 'VN', 'RO', 'IL', 'ZA', 'SA', 'AE', 'BH', 'QA', 'OM', 'KW', 'EG', 'MA', 'DZ', 'TN', 'LB', 'JO', 'PS', 'IN', 'BY', 'KZ', 'MD', 'UA', 'AL', 'BA', 'HR', 'ME', 'MK', 'RS', 'SI', 'KR', 'BD', 'PK', 'LK', 'GH', 'KE', 'NG', 'TZ', 'UG', 'AG', 'AM', 'BS', 'BB', 'BZ', 'BT', 'BW', 'BF', 'CV', 'CW', 'DM', 'FJ', 'GM', 'GE', 'GD', 'GW', 'GY', 'HT', 'JM', 'KI', 'LS', 'LR', 'MW', 'MV', 'ML', 'MH', 'FM', 'NA', 'NR', 'NE', 'PW', 'PG', 'PR', 'WS', 'SM', 'ST', 'SN', 'SC', 'SL', 'SB', 'KN', 'LC', 'VC', 'SR', 'TL', 'TO', 'TT', 'TV', 'VU', 'AZ', 'BN', 'BI', 'KH', 'CM', 'TD', 'KM', 'GQ', 'SZ', 'GA', 'GN', 'KG', 'LA', 'MO', 'MR', 'MN', 'NP', 'RW', 'TG', 'UZ', 'ZW', 'BJ', 'MG', 'MU', 'MZ', 'AO', 'CI', 'DJ', 'ZM', 'CD', 'CG', 'IQ', 'LY', 'TJ', 'VE', 'ET', 'XK'], 'external_urls': {'spotify': 'https://open.spotify.com/album/7wq0Fe0wGDMlIbmFs8BERa'}, 'href': 'https://api.spotify.com/v1/albums/7wq0Fe0wGDMlIbmFs8BERa', 'id': '7wq0Fe0wGDMlIbmFs8BERa', 'images': [{'url': 'https://i.scdn.co/image/ab67616d0000b273c044eb2bcc1c20f76916fcf7', 'width': 640, 'height': 640}, {'url': 'https://i.scdn.co/image/ab67616d00001e02c044eb2bcc1c20f76916fcf7', 'width': 300, 'height': 300}, {'url': 'https://i.scdn.co/image/ab67616d00004851c044eb2bcc1c20f76916fcf7', 'width': 64, 'height': 64}], 'name': 'ПРОСТИ МЕНЯ МОЯ ЛЮБОВЬ', 'release_date': '2000-03-28', 'release_date_precision': 'day', 'total_tracks': 13, 'type': 'album', 'uri': 'spotify:album:7wq0Fe0wGDMlIbmFs8BERa'}, 'artists': [{'external_urls': {'spotify': 'https://open.spotify.com/artist/6oO3QiWdVj5FZQwbdRtsRh'}, 'href': 'https://api.spotify.com/v1/artists/6oO3QiWdVj5FZQwbdRtsRh', 'id': '6oO3QiWdVj5FZQwbdRtsRh', 'name': 'Zemfira', 'type': 'artist', 'uri': 'spotify:artist:6oO3QiWdVj5FZQwbdRtsRh'}], 'available_markets': ['AR', 'AU', 'AT', 'BE', 'BO', 'BR', 'BG', 'CA', 'CL', 'CO', 'CR', 'CY', 'CZ', 'DK', 'DO', 'DE', 'EC', 'EE', 'SV', 'FI', 'FR', 'GR', 'GT', 'HN', 'HK', 'HU', 'IS', 'IE', 'IT', 'LV', 'LT', 'LU', 'MY', 'MT', 'MX', 'NL', 'NZ', 'NI', 'NO', 'PA', 'PY', 'PE', 'PH', 'PL', 'PT', 'SG', 'SK', 'ES', 'SE', 'CH', 'TW', 'TR', 'UY', 'US', 'GB', 'AD', 'LI', 'MC', 'ID', 'JP', 'TH', 'VN', 'RO', 'IL', 'ZA', 'SA', 'AE', 'BH', 'QA', 'OM', 'KW', 'EG', 'MA', 'DZ', 'TN', 'LB', 'JO', 'PS', 'IN', 'BY', 'KZ', 'MD', 'UA', 'AL', 'BA', 'HR', 'ME', 'MK', 'RS', 'SI', 'KR', 'BD', 'PK', 'LK', 'GH', 'KE', 'NG', 'TZ', 'UG', 'AG', 'AM', 'BS', 'BB', 'BZ', 'BT', 'BW', 'BF', 'CV', 'CW', 'DM', 'FJ', 'GM', 'GE', 'GD', 'GW', 'GY', 'HT', 'JM', 'KI', 'LS', 'LR', 'MW', 'MV', 'ML', 'MH', 'FM', 'NA', 'NR', 'NE', 'PW', 'PG', 'PR', 'WS', 'SM', 'ST', 'SN', 'SC', 'SL', 'SB', 'KN', 'LC', 'VC', 'SR', 'TL', 'TO', 'TT', 'TV', 'VU', 'AZ', 'BN', 'BI', 'KH', 'CM', 'TD', 'KM', 'GQ', 'SZ', 'GA', 'GN', 'KG', 'LA', 'MO', 'MR', 'MN', 'NP', 'RW', 'TG', 'UZ', 'ZW', 'BJ', 'MG', 'MU', 'MZ', 'AO', 'CI', 'DJ', 'ZM', 'CD', 'CG', 'IQ', 'LY', 'TJ', 'VE', 'ET', 'XK'], 'disc_number': 1, 'duration_ms': 217173, 'explicit': False, 'external_ids': {'isrc': 'FR6V82120155'}, 'external_urls': {'spotify': 'https://open.spotify.com/track/50KDdx4HMcNxGXLAbxiHUf'}, 'href': 'https://api.spotify.com/v1/tracks/50KDdx4HMcNxGXLAbxiHUf', 'id': '50KDdx4HMcNxGXLAbxiHUf', 'is_local': False, 'name': 'П.М.М.Л.', 'popularity': 53, 'preview_url': 'https://p.scdn.co/mp3-preview/dc81b3f44d0b8e897ca271059d9b8b227f9d791c?cid=5c435b7327e94d36973557c5640239d8', 'track_number': 10, 'type': 'track', 'uri': 'spotify:track:50KDdx4HMcNxGXLAbxiHUf'}\n"
     ]
    }
   ],
   "source": [
    "# Пример запроса информации о треке\n",
    "track_id = 'spotify:track:50KDdx4HMcNxGXLAbxiHUf'  # Замените на нужный track_id\n",
    "track_info = sp.track(track_id)\n",
    "\n",
    "# Выводим полученную информацию\n",
    "print(track_info)\n"
   ]
  },
  {
   "cell_type": "code",
   "execution_count": 4,
   "id": "986dba7a-4757-43c0-bafb-5ddd0ba32db0",
   "metadata": {},
   "outputs": [
    {
     "name": "stdout",
     "output_type": "stream",
     "text": [
      "П.М.М.Л. - Zemfira\n",
      "Родина - ДДТ\n"
     ]
    }
   ],
   "source": [
    "# Список из нескольких track_id (ты можешь найти их на Spotify)\n",
    "track_ids = [\n",
    "    'spotify:track:50KDdx4HMcNxGXLAbxiHUf',\n",
    "    'spotify:track:0S9AYGXX4c7Oieyqg0oPuq'\n",
    "]\n",
    "\n",
    "# Получаем информацию о нескольких треках\n",
    "tracks_info = sp.tracks(track_ids)\n",
    "\n",
    "# Выводим названия песен\n",
    "for track in tracks_info['tracks']:\n",
    "    print(track['name'], '-', track['artists'][0]['name'])\n"
   ]
  },
  {
   "cell_type": "code",
   "execution_count": 5,
   "id": "c90fbf86-2afa-46d5-af5d-58e5520daa34",
   "metadata": {},
   "outputs": [
    {
     "name": "stdout",
     "output_type": "stream",
     "text": [
      "{'danceability': 0.498, 'energy': 0.737, 'key': 9, 'loudness': -8.396, 'mode': 0, 'speechiness': 0.0301, 'acousticness': 0.00149, 'instrumentalness': 0.053, 'liveness': 0.527, 'valence': 0.602, 'tempo': 142.706, 'type': 'audio_features', 'id': '50KDdx4HMcNxGXLAbxiHUf', 'uri': 'spotify:track:50KDdx4HMcNxGXLAbxiHUf', 'track_href': 'https://api.spotify.com/v1/tracks/50KDdx4HMcNxGXLAbxiHUf', 'analysis_url': 'https://api.spotify.com/v1/audio-analysis/50KDdx4HMcNxGXLAbxiHUf', 'duration_ms': 217173, 'time_signature': 4}\n"
     ]
    }
   ],
   "source": [
    "# Получаем аудиофичи для одного трека\n",
    "audio_features = sp.audio_features(track_id)\n",
    "\n",
    "# Выводим аудиофичи\n",
    "print(audio_features[0])  # Выведет словарь с характеристиками трека\n"
   ]
  },
  {
   "cell_type": "code",
   "execution_count": 8,
   "id": "72f9eb42-7482-455d-aef8-4b381b75e01a",
   "metadata": {},
   "outputs": [
    {
     "name": "stdout",
     "output_type": "stream",
     "text": [
      "Genres: ['classic russian rock', 'russian alternative rock', 'russian folk rock', 'russian rock']\n"
     ]
    }
   ],
   "source": [
    "# Пример получения информации об исполнителе\n",
    "artist_id = 'spotify:artist:0YCqg8X5gx0MremW64Ud1h'  # ID исполнителя (Drake)\n",
    "artist_info = sp.artist(artist_id)\n",
    "\n",
    "# Выводим жанры исполнителя\n",
    "print(\"Genres:\", artist_info['genres'])\n"
   ]
  },
  {
   "cell_type": "code",
   "execution_count": 9,
   "id": "79dfa06f-6253-49de-80d7-bfb1090830b4",
   "metadata": {},
   "outputs": [
    {
     "name": "stdout",
     "output_type": "stream",
     "text": [
      "1: Rockstar - Nickelback\n",
      "2: Rock and A Hard Place - Bailey Zimmerman\n",
      "3: Rockstar - LISA\n",
      "4: Rock Your Body - Justin Timberlake\n",
      "5: Rocky Top - The Osborne Brothers\n",
      "6: rockstar (feat. 21 Savage) - Post Malone\n",
      "7: Rocket Man (I Think It's Going To Be A Long, Long Time) - Elton John\n",
      "8: Rocketeer - Far East Movement\n",
      "9: Rocky Theme - Gonna Fly Now\n",
      "10: Rock with You - Single Version - Michael Jackson\n"
     ]
    }
   ],
   "source": [
    "# Поиск треков по запросу\n",
    "results = sp.search(q='rock', type='track', limit=10)\n",
    "\n",
    "# Выводим названия песен\n",
    "for idx, track in enumerate(results['tracks']['items']):\n",
    "    print(f\"{idx+1}: {track['name']} - {track['artists'][0]['name']}\")\n"
   ]
  },
  {
   "cell_type": "code",
   "execution_count": 11,
   "id": "1c9000c3-91c0-4e18-9a3b-3429c39171cd",
   "metadata": {},
   "outputs": [
    {
     "ename": "NameError",
     "evalue": "name 'df' is not defined",
     "output_type": "error",
     "traceback": [
      "\u001b[1;31m---------------------------------------------------------------------------\u001b[0m",
      "\u001b[1;31mNameError\u001b[0m                                 Traceback (most recent call last)",
      "Cell \u001b[1;32mIn[11], line 4\u001b[0m\n\u001b[0;32m      1\u001b[0m \u001b[38;5;28;01mimport\u001b[39;00m \u001b[38;5;21;01mmatplotlib\u001b[39;00m\u001b[38;5;21;01m.\u001b[39;00m\u001b[38;5;21;01mpyplot\u001b[39;00m \u001b[38;5;28;01mas\u001b[39;00m \u001b[38;5;21;01mplt\u001b[39;00m\n\u001b[0;32m      3\u001b[0m \u001b[38;5;66;03m# Построим гистограмму танцевальности\u001b[39;00m\n\u001b[1;32m----> 4\u001b[0m plt\u001b[38;5;241m.\u001b[39mhist(\u001b[43mdf\u001b[49m[\u001b[38;5;124m'\u001b[39m\u001b[38;5;124mdanceability\u001b[39m\u001b[38;5;124m'\u001b[39m], bins\u001b[38;5;241m=\u001b[39m\u001b[38;5;241m10\u001b[39m, alpha\u001b[38;5;241m=\u001b[39m\u001b[38;5;241m0.7\u001b[39m, label\u001b[38;5;241m=\u001b[39m\u001b[38;5;124m'\u001b[39m\u001b[38;5;124mDanceability\u001b[39m\u001b[38;5;124m'\u001b[39m)\n\u001b[0;32m      5\u001b[0m plt\u001b[38;5;241m.\u001b[39mhist(df[\u001b[38;5;124m'\u001b[39m\u001b[38;5;124menergy\u001b[39m\u001b[38;5;124m'\u001b[39m], bins\u001b[38;5;241m=\u001b[39m\u001b[38;5;241m10\u001b[39m, alpha\u001b[38;5;241m=\u001b[39m\u001b[38;5;241m0.7\u001b[39m, label\u001b[38;5;241m=\u001b[39m\u001b[38;5;124m'\u001b[39m\u001b[38;5;124mEnergy\u001b[39m\u001b[38;5;124m'\u001b[39m)\n\u001b[0;32m      6\u001b[0m plt\u001b[38;5;241m.\u001b[39mxlabel(\u001b[38;5;124m'\u001b[39m\u001b[38;5;124mValue\u001b[39m\u001b[38;5;124m'\u001b[39m)\n",
      "\u001b[1;31mNameError\u001b[0m: name 'df' is not defined"
     ]
    }
   ],
   "source": [
    "import matplotlib.pyplot as plt\n",
    "\n",
    "# Построим гистограмму танцевальности\n",
    "plt.hist(df['danceability'], bins=10, alpha=0.7, label='Danceability')\n",
    "plt.hist(df['energy'], bins=10, alpha=0.7, label='Energy')\n",
    "plt.xlabel('Value')\n",
    "plt.ylabel('Frequency')\n",
    "plt.title('Distribution of Danceability and Energy')\n",
    "plt.legend()\n",
    "plt.show()"
   ]
  },
  {
   "cell_type": "code",
   "execution_count": 12,
   "id": "f3be5f2d-64d5-4590-ac7f-9a9699af1731",
   "metadata": {},
   "outputs": [
    {
     "name": "stdout",
     "output_type": "stream",
     "text": [
      "   danceability  energy  key  loudness\n",
      "0         0.391  0.4020    0    -9.961\n",
      "1         0.592  0.0196    1   -33.350\n"
     ]
    }
   ],
   "source": [
    "import pandas as pd\n",
    "\n",
    "# Список треков\n",
    "track_ids = [\n",
    "    'spotify:track:7tFiyTwD0nx5a1eklYtX2J',  # Bohemian Rhapsody\n",
    "    'spotify:track:6rqhFgbbKwnb9MLmUQDhG6',  # Song 2 by Blur\n",
    "]\n",
    "\n",
    "# Получаем аудиофичи для всех треков\n",
    "audio_features = sp.audio_features(track_ids)\n",
    "\n",
    "# Превращаем данные в DataFrame для анализа\n",
    "df = pd.DataFrame(audio_features)\n",
    "\n",
    "# Отображаем выбранные признаки\n",
    "print(df[['danceability', 'energy', 'key', 'loudness']])\n"
   ]
  },
  {
   "cell_type": "code",
   "execution_count": 13,
   "id": "f92989d7-587f-4b4c-afe8-e11fe460c202",
   "metadata": {},
   "outputs": [
    {
     "data": {
      "image/png": "[encoded data removed]",
      "text/plain": [
       "<Figure size 640x480 with 1 Axes>"
      ]
     },
     "metadata": {},
     "output_type": "display_data"
    }
   ],
   "source": [
    "import matplotlib.pyplot as plt\n",
    "\n",
    "# Построим гистограмму танцевальности\n",
    "plt.hist(df['danceability'], bins=10, alpha=0.7, label='Danceability')\n",
    "plt.hist(df['energy'], bins=10, alpha=0.7, label='Energy')\n",
    "plt.xlabel('Value')\n",
    "plt.ylabel('Frequency')\n",
    "plt.title('Distribution of Danceability and Energy')\n",
    "plt.legend()\n",
    "plt.show()"
   ]
  },
  {
   "cell_type": "code",
   "execution_count": null,
   "id": "aacc5d6e-810e-43ec-ad82-45f24d2f0e0d",
   "metadata": {},
   "outputs": [],
   "source": []
  }
 ],
 "metadata": {
  "kernelspec": {
   "display_name": "Python 3 (ipykernel)",
   "language": "python",
   "name": "python3"
  },
  "language_info": {
   "codemirror_mode": {
    "name": "ipython",
    "version": 3
   },
   "file_extension": ".py",
   "mimetype": "text/x-python",
   "name": "python",
   "nbconvert_exporter": "python",
   "pygments_lexer": "ipython3",
   "version": "3.12.6"
  }
 },
 "nbformat": 4,
 "nbformat_minor": 5
}
